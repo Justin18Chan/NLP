{
 "cells": [
  {
   "cell_type": "code",
   "execution_count": 2,
   "metadata": {},
   "outputs": [
    {
     "name": "stdout",
     "output_type": "stream",
     "text": [
      "['this is first sentence.', 'this is second sentence.', 'this is third sentence.']\n"
     ]
    },
    {
     "data": {
      "text/plain": [
       "['this',\n",
       " 'is',\n",
       " 'first',\n",
       " 'sentence',\n",
       " '.',\n",
       " 'this',\n",
       " 'is',\n",
       " 'second',\n",
       " 'sentence',\n",
       " '.',\n",
       " 'this',\n",
       " 'is',\n",
       " 'third',\n",
       " 'sentence',\n",
       " '.']"
      ]
     },
     "execution_count": 2,
     "metadata": {},
     "output_type": "execute_result"
    }
   ],
   "source": [
    "import nltk.data\n",
    "tokenizer = nltk.data.load('tokenizers/punkt/english.pickle')\n",
    "text = \"\"\"this is first sentence.\n",
    "this is second sentence.\n",
    "this is third sentence.\n",
    "\"\"\"\n",
    "print(tokenizer.tokenize(text))\n",
    "from  nltk.tokenize  import word_tokenize\n",
    "word_tokenize(text)"
   ]
  },
  {
   "cell_type": "code",
   "execution_count": null,
   "metadata": {
    "collapsed": true
   },
   "outputs": [],
   "source": []
  }
 ],
 "metadata": {
  "kernelspec": {
   "display_name": "Python 3",
   "language": "python",
   "name": "python3"
  },
  "language_info": {
   "codemirror_mode": {
    "name": "ipython",
    "version": 3
   },
   "file_extension": ".py",
   "mimetype": "text/x-python",
   "name": "python",
   "nbconvert_exporter": "python",
   "pygments_lexer": "ipython3",
   "version": "3.6.3"
  }
 },
 "nbformat": 4,
 "nbformat_minor": 2
}
